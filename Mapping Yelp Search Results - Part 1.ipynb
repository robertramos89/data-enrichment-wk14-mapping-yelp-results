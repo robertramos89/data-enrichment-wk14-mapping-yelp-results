{
 "cells": [
  {
   "cell_type": "markdown",
   "metadata": {
    "id": "8guYh-VR7nlX"
   },
   "source": [
    "# Mapping Yelp Search Results - Part 1"
   ]
  },
  {
   "cell_type": "markdown",
   "metadata": {},
   "source": [
    "- 04/26/22\n"
   ]
  },
  {
   "cell_type": "markdown",
   "metadata": {},
   "source": [
    "## Obective"
   ]
  },
  {
   "cell_type": "markdown",
   "metadata": {
    "id": "8guYh-VR7nlX"
   },
   "source": [
    "- For this CodeAlong, we will be working with the Yelp API. \n",
    "- You will use the the Yelp API to search your home town for a cuisine type of your choice.\n",
    "- Next class, we will then use Plotly Express to create a map with the Mapbox API to visualize the results.\n",
    "    \n",
    "    "
   ]
  },
  {
   "cell_type": "markdown",
   "metadata": {
    "id": "8guYh-VR7nlX"
   },
   "source": [
    "## Tools You Will Use\n",
    "- Part 1:\n",
    "    - Yelp API:\n",
    "        - Getting Started: \n",
    "            - https://www.yelp.com/developers/documentation/v3/get_started\n",
    "\n",
    "    - `YelpAPI` python package\n",
    "        -  \"YelpAPI\": https://github.com/gfairchild/yelpapi\n",
    "- Part 2:\n",
    "\n",
    "    - Plotly Express: https://plotly.com/python/getting-started/\n",
    "        - With Mapbox API: https://www.mapbox.com/\n",
    "        - `px.scatter_mapbox` [Documentation](https://plotly.com/python/scattermapbox/): \n",
    "\n",
    "\n"
   ]
  },
  {
   "cell_type": "markdown",
   "metadata": {},
   "source": [
    "### Applying Code From\n",
    "- Efficient API Calls Lesson Link: https://login.codingdojo.com/m/376/12529/88078"
   ]
  },
  {
   "cell_type": "code",
   "execution_count": 2,
   "metadata": {},
   "outputs": [
    {
     "name": "stdout",
     "output_type": "stream",
     "text": [
      "Requirement already satisfied: yelpapi in c:\\users\\ramos\\anaconda3\\envs\\dojo-env\\lib\\site-packages (2.4.0)\n",
      "Requirement already satisfied: requests in c:\\users\\ramos\\anaconda3\\envs\\dojo-env\\lib\\site-packages (from yelpapi) (2.27.1)\n",
      "Requirement already satisfied: certifi>=2017.4.17 in c:\\users\\ramos\\anaconda3\\envs\\dojo-env\\lib\\site-packages (from requests->yelpapi) (2021.10.8)\n",
      "Requirement already satisfied: urllib3<1.27,>=1.21.1 in c:\\users\\ramos\\anaconda3\\envs\\dojo-env\\lib\\site-packages (from requests->yelpapi) (1.26.8)\n",
      "Requirement already satisfied: idna<4,>=2.5 in c:\\users\\ramos\\anaconda3\\envs\\dojo-env\\lib\\site-packages (from requests->yelpapi) (3.3)\n",
      "Requirement already satisfied: charset-normalizer~=2.0.0 in c:\\users\\ramos\\anaconda3\\envs\\dojo-env\\lib\\site-packages (from requests->yelpapi) (2.0.12)\n"
     ]
    }
   ],
   "source": [
    "!pip install yelpapi"
   ]
  },
  {
   "cell_type": "code",
   "execution_count": 4,
   "metadata": {},
   "outputs": [
    {
     "name": "stdout",
     "output_type": "stream",
     "text": [
      "Collecting tqdm\n",
      "  Downloading tqdm-4.64.0-py2.py3-none-any.whl (78 kB)\n",
      "     -------------------------------------- 78.4/78.4 KB 725.6 kB/s eta 0:00:00\n",
      "Requirement already satisfied: colorama in c:\\users\\ramos\\anaconda3\\envs\\dojo-env\\lib\\site-packages (from tqdm) (0.4.4)\n",
      "Installing collected packages: tqdm\n",
      "Successfully installed tqdm-4.64.0\n"
     ]
    }
   ],
   "source": [
    "!pip install tqdm"
   ]
  },
  {
   "cell_type": "code",
   "execution_count": 5,
   "metadata": {},
   "outputs": [],
   "source": [
    "# Standard Imports\n",
    "import numpy as np\n",
    "import pandas as pd\n",
    "import matplotlib.pyplot as plt\n",
    "import seaborn as sns\n",
    "\n",
    "# Additional Imports\n",
    "import os, json, math, time\n",
    "from yelpapi import YelpAPI\n",
    "from tqdm.notebook import tqdm_notebook"
   ]
  },
  {
   "cell_type": "markdown",
   "metadata": {
    "id": "1l3Z-79nBSX9"
   },
   "source": [
    "## 1. Registering for Required APIs"
   ]
  },
  {
   "cell_type": "markdown",
   "metadata": {
    "id": "1l3Z-79nBSX9"
   },
   "source": [
    "\n",
    "- Yelp: https://www.yelp.com/developers/documentation/v3/get_started\n"
   ]
  },
  {
   "cell_type": "markdown",
   "metadata": {},
   "source": [
    "> Check the official API documentation to know what arguments we can search for: https://www.yelp.com/developers/documentation/v3/business_search"
   ]
  },
  {
   "cell_type": "markdown",
   "metadata": {},
   "source": [
    "### Load Credentials and Create Yelp API Object"
   ]
  },
  {
   "cell_type": "code",
   "execution_count": 6,
   "metadata": {
    "ExecuteTime": {
     "end_time": "2022-03-25T18:20:46.629934Z",
     "start_time": "2022-03-25T18:20:45.915864Z"
    },
    "colab": {
     "base_uri": "https://localhost:8080/"
    },
    "id": "xJYqVvNkE36a",
    "outputId": "67798160-dea2-41fc-9040-2b3833efa560"
   },
   "outputs": [
    {
     "data": {
      "text/plain": [
       "dict_keys(['client-id', 'api-key'])"
      ]
     },
     "execution_count": 6,
     "metadata": {},
     "output_type": "execute_result"
    }
   ],
   "source": [
    "# Load API Credentials\n",
    "with open('C:/Users/ramos/.secret/yelp_api.json','r') as f:\n",
    "    login = json.load(f)\n",
    "login.keys() # put .keys() to hide your credentials"
   ]
  },
  {
   "cell_type": "code",
   "execution_count": 7,
   "metadata": {},
   "outputs": [
    {
     "data": {
      "text/plain": [
       "<yelpapi.yelpapi.YelpAPI at 0x26ed6058b08>"
      ]
     },
     "execution_count": 7,
     "metadata": {},
     "output_type": "execute_result"
    }
   ],
   "source": [
    "# Instantiate YelpAPI Variable\n",
    "yelp = YelpAPI(login['api-key'], timeout_s=5)\n",
    "yelp"
   ]
  },
  {
   "cell_type": "code",
   "execution_count": 8,
   "metadata": {},
   "outputs": [
    {
     "name": "stdout",
     "output_type": "stream",
     "text": [
      "Help on YelpAPI in module yelpapi.yelpapi object:\n",
      "\n",
      "class YelpAPI(builtins.object)\n",
      " |  YelpAPI(api_key, timeout_s=None)\n",
      " |  \n",
      " |  This class implements the complete Yelp Fusion API. It offers access to the following APIs:\n",
      " |  \n",
      " |      * Autocomplete API - https://www.yelp.com/developers/documentation/v3/autocomplete\n",
      " |      * Business API - https://www.yelp.com/developers/documentation/v3/business\n",
      " |      * Business Match API - https://www.yelp.com/developers/documentation/v3/business_match\n",
      " |      * Event Lookup API - https://www.yelp.com/developers/documentation/v3/event\n",
      " |      * Event Search API - https://www.yelp.com/developers/documentation/v3/event_search\n",
      " |      * Featured Event API - https://www.yelp.com/developers/documentation/v3/featured_event\n",
      " |      * Phone Search API - https://www.yelp.com/developers/documentation/v3/business_search_phone\n",
      " |      * Reviews API - https://www.yelp.com/developers/documentation/v3/business_reviews\n",
      " |      * Search API - https://www.yelp.com/developers/documentation/v3/business_search\n",
      " |      * Transaction Search API - https://www.yelp.com/developers/documentation/v3/transactions_search\n",
      " |  \n",
      " |  It is simple and completely extensible since it dynamically takes arguments. This will allow it to continue\n",
      " |  working even if Yelp changes the spec. The only thing that should cause this to break is if Yelp changes the URL\n",
      " |  scheme.\n",
      " |  \n",
      " |  The structure of each method is quite simple. Some parameters help form the request URL (e.g., a ID of some\n",
      " |  sort), and other parameters are a part of the JSON request. Parameters that are a part of the URL are\n",
      " |  explicitly asked for as a part of the method definition. Parameters that are a part of the JSON request\n",
      " |  are passed via `**kwargs`. Some parameters are required, and others are optional. To avoid unnecessarily using\n",
      " |  precious API calls, each method explicitly checks for parameters that are required in order for the query to\n",
      " |  succeed before issuing the call.\n",
      " |  \n",
      " |  Methods defined here:\n",
      " |  \n",
      " |  __init__(self, api_key, timeout_s=None)\n",
      " |      Instantiate a YelpAPI object. An API key from Yelp is required.\n",
      " |      \n",
      " |      required parameters:\n",
      " |          * api_key - Our Yelp API key\n",
      " |      \n",
      " |      optional parameters:\n",
      " |          * timeout_s - Timeout, in seconds, to set for all API calls. If the\n",
      " |            the timeout expires before the request completes, then a Timeout\n",
      " |            exception will be raised. If this is not given, the default is to\n",
      " |            block indefinitely.\n",
      " |  \n",
      " |  autocomplete_query(self, **kwargs)\n",
      " |      Query the Yelp Autocomplete API.\n",
      " |      \n",
      " |      documentation: https://www.yelp.com/developers/documentation/v3/autocomplete\n",
      " |      \n",
      " |      required parameters:\n",
      " |          * text - search text\n",
      " |  \n",
      " |  business_match_query(self, **kwargs)\n",
      " |      Query the Yelp Business Match API.\n",
      " |      \n",
      " |      documentation: https://www.yelp.com/developers/documentation/v3/business_match\n",
      " |      \n",
      " |      required parameters:\n",
      " |          * name - business name\n",
      " |          * city\n",
      " |          * state\n",
      " |          * country\n",
      " |          * address1\n",
      " |      \n",
      " |      NOTE: `match_type` is deprecated since April 1, 2019.\n",
      " |  \n",
      " |  business_query(self, id, **kwargs)\n",
      " |      Query the Yelp Business API.\n",
      " |      \n",
      " |      documentation: https://www.yelp.com/developers/documentation/v3/business\n",
      " |      \n",
      " |      required parameters:\n",
      " |          * id - business ID\n",
      " |  \n",
      " |  event_lookup_query(self, id, **kwargs)\n",
      " |      Query the Yelp Event Lookup API.\n",
      " |      \n",
      " |      documentation: https://www.yelp.com/developers/documentation/v3/event\n",
      " |      \n",
      " |      required parameters:\n",
      " |          * id - event ID\n",
      " |  \n",
      " |  event_search_query(self, **kwargs)\n",
      " |      Query the Yelp Event Search API.\n",
      " |      \n",
      " |      documentation: https://www.yelp.com/developers/documentation/v3/event_search\n",
      " |  \n",
      " |  featured_event_query(self, **kwargs)\n",
      " |      Query the Yelp Featured Event API.\n",
      " |      \n",
      " |      documentation: https://www.yelp.com/developers/documentation/v3/featured_event\n",
      " |      \n",
      " |      required parameters:\n",
      " |          * one of either:\n",
      " |              * location - text specifying a location to search for\n",
      " |              * latitude and longitude\n",
      " |  \n",
      " |  phone_search_query(self, **kwargs)\n",
      " |      Query the Yelp Phone Search API.\n",
      " |      \n",
      " |      documentation: https://www.yelp.com/developers/documentation/v3/business_search_phone\n",
      " |      \n",
      " |      required parameters:\n",
      " |          * phone - phone number\n",
      " |  \n",
      " |  reviews_query(self, id, **kwargs)\n",
      " |      Query the Yelp Reviews API.\n",
      " |      \n",
      " |      documentation: https://www.yelp.com/developers/documentation/v3/business_reviews\n",
      " |      \n",
      " |      required parameters:\n",
      " |          * id - business ID\n",
      " |  \n",
      " |  search_query(self, **kwargs)\n",
      " |      Query the Yelp Search API.\n",
      " |      \n",
      " |      documentation: https://www.yelp.com/developers/documentation/v3/business_search\n",
      " |      \n",
      " |      required parameters:\n",
      " |          * one of either:\n",
      " |              * location - text specifying a location to search for\n",
      " |              * latitude and longitude\n",
      " |  \n",
      " |  transaction_search_query(self, transaction_type, **kwargs)\n",
      " |      Query the Yelp Transaction Search API.\n",
      " |      \n",
      " |      documentation: https://www.yelp.com/developers/documentation/v3/transactions_search\n",
      " |      \n",
      " |      required parameters:\n",
      " |          * transaction_type - transaction type\n",
      " |          * one of either:\n",
      " |              * location - text specifying a location to search for\n",
      " |              * latitude and longitude\n",
      " |  \n",
      " |  ----------------------------------------------------------------------\n",
      " |  Data descriptors defined here:\n",
      " |  \n",
      " |  __dict__\n",
      " |      dictionary for instance variables (if defined)\n",
      " |  \n",
      " |  __weakref__\n",
      " |      list of weak references to the object (if defined)\n",
      " |  \n",
      " |  ----------------------------------------------------------------------\n",
      " |  Data and other attributes defined here:\n",
      " |  \n",
      " |  YelpAPIError = <class 'yelpapi.yelpapi.YelpAPI.YelpAPIError'>\n",
      " |      This class is used for all API errors. Currently, there is no master list of all possible errors, but\n",
      " |      there is an open issue on this: https://github.com/Yelp/yelp-fusion/issues/95.\n",
      "\n"
     ]
    }
   ],
   "source": [
    "help(yelp)"
   ]
  },
  {
   "cell_type": "markdown",
   "metadata": {},
   "source": [
    "### Define Search Terms and File Paths"
   ]
  },
  {
   "cell_type": "code",
   "execution_count": 10,
   "metadata": {},
   "outputs": [],
   "source": [
    "# set our API call parameters and filename before the first call\n",
    "LOCATION = \"Seattle, WA, 98102\"\n",
    "TERM = \"Sushi\""
   ]
  },
  {
   "cell_type": "code",
   "execution_count": 13,
   "metadata": {},
   "outputs": [
    {
     "data": {
      "text/plain": [
       "'Seattle'"
      ]
     },
     "execution_count": 13,
     "metadata": {},
     "output_type": "execute_result"
    }
   ],
   "source": [
    "LOCATION.split(',')[0]"
   ]
  },
  {
   "cell_type": "code",
   "execution_count": 14,
   "metadata": {},
   "outputs": [
    {
     "data": {
      "text/plain": [
       "'Data/Sushi_Seattle.json'"
      ]
     },
     "execution_count": 14,
     "metadata": {},
     "output_type": "execute_result"
    }
   ],
   "source": [
    "## Specify fodler for saving data\n",
    "FOLDER = \"Data/\"\n",
    "os.makedirs(FOLDER, exist_ok=True)\n",
    "\n",
    "# Specifying JSON_FILE filename (can include a folder)\n",
    "JSON_FILE = f\"{FOLDER}{TERM}_{LOCATION.split(',')[0]}.json\"\n",
    "JSON_FILE"
   ]
  },
  {
   "cell_type": "markdown",
   "metadata": {},
   "source": [
    "### Check if Json File exists and Create it if it doesn't"
   ]
  },
  {
   "cell_type": "code",
   "execution_count": 16,
   "metadata": {},
   "outputs": [
    {
     "name": "stdout",
     "output_type": "stream",
     "text": [
      "[i] Data/Sushi_Seattle.json not found. Saving empty list to file.\n"
     ]
    }
   ],
   "source": [
    "## Check if JSON_FILE exists\n",
    "file_exists = os.path.isfile(JSON_FILE)\n",
    "## If it does not exist: \n",
    "if file_exists == False:  \n",
    "    ## CREATE ANY NEEDED FOLDERS\n",
    "    # Get the Folder Name only\n",
    "    folder = os.path.dirname(JSON_FILE)\n",
    "    \n",
    "    ## If JSON_FILE included a folder:\n",
    "    if len(folder)>0:\n",
    "        # create the folder\n",
    "        os.makedirs(folder,exist_ok=True)\n",
    "        \n",
    "        \n",
    "    ## INFORM USER AND SAVE EMPTY LIST\n",
    "    print(f\"[i] {JSON_FILE} not found. Saving empty list to file.\")\n",
    "    \n",
    "    with open(JSON_FILE,'w') as f:\n",
    "        json.dump([],f)\n",
    "    \n",
    "    ## save the first page of results\n",
    "\n",
    "        \n",
    "## If it exists, inform user\n",
    "else:\n",
    "        print(f\"[i] {JSON_FILE} already exists.\")"
   ]
  },
  {
   "cell_type": "markdown",
   "metadata": {},
   "source": [
    "### Load JSON FIle and account for previous results"
   ]
  },
  {
   "cell_type": "code",
   "execution_count": 17,
   "metadata": {},
   "outputs": [
    {
     "name": "stdout",
     "output_type": "stream",
     "text": [
      " - 0 previous results found.\n"
     ]
    }
   ],
   "source": [
    "## Load previous results and use len of results for offset\n",
    "with open(JSON_FILE,'r') as f:\n",
    "        previous_results = json.load(f)\n",
    "## set offset based on previous results\n",
    "n_results = len(previous_results)\n",
    "print(f' - {n_results} previous results found.')"
   ]
  },
  {
   "cell_type": "markdown",
   "metadata": {},
   "source": [
    "### Make the first API call to get the first page of data"
   ]
  },
  {
   "cell_type": "markdown",
   "metadata": {},
   "source": [
    "- We will use this first result to check:\n",
    "    - how many total results there are?\n",
    "    - Where is the actual data we want to save?\n",
    "    - how many results do we get at a time?\n"
   ]
  },
  {
   "cell_type": "code",
   "execution_count": 19,
   "metadata": {},
   "outputs": [
    {
     "data": {
      "text/plain": [
       "dict_keys(['businesses', 'total', 'region'])"
      ]
     },
     "execution_count": 19,
     "metadata": {},
     "output_type": "execute_result"
    }
   ],
   "source": [
    "# use our yelp_api variable's search_query method to perform our API call\n",
    "results = yelp.search_query(term=TERM,location=LOCATION)\n",
    "results.keys()"
   ]
  },
  {
   "cell_type": "code",
   "execution_count": 20,
   "metadata": {
    "ExecuteTime": {
     "end_time": "2022-03-24T20:01:48.867510Z",
     "start_time": "2022-03-24T20:01:48.854746Z"
    },
    "colab": {
     "base_uri": "https://localhost:8080/"
    },
    "id": "Myur3i1KGhPf",
    "outputId": "f447c6f9-596b-41d0-ccda-50af0ce82108"
   },
   "outputs": [
    {
     "data": {
      "text/plain": [
       "261"
      ]
     },
     "execution_count": 20,
     "metadata": {},
     "output_type": "execute_result"
    }
   ],
   "source": [
    "## How many results total?\n",
    "results['total']"
   ]
  },
  {
   "cell_type": "markdown",
   "metadata": {},
   "source": [
    "- Where is the actual data we want to save?"
   ]
  },
  {
   "cell_type": "code",
   "execution_count": 21,
   "metadata": {},
   "outputs": [
    {
     "data": {
      "text/plain": [
       "list"
      ]
     },
     "execution_count": 21,
     "metadata": {},
     "output_type": "execute_result"
    }
   ],
   "source": [
    "type(results['businesses'])"
   ]
  },
  {
   "cell_type": "code",
   "execution_count": 22,
   "metadata": {},
   "outputs": [
    {
     "data": {
      "text/plain": [
       "20"
      ]
     },
     "execution_count": 22,
     "metadata": {},
     "output_type": "execute_result"
    }
   ],
   "source": [
    "## How many did we get the details for?\n",
    "results_per_page = len(results['businesses'])\n",
    "results_per_page"
   ]
  },
  {
   "cell_type": "markdown",
   "metadata": {},
   "source": [
    "- Calculate how many pages of results needed to cover the total_results"
   ]
  },
  {
   "cell_type": "code",
   "execution_count": 23,
   "metadata": {},
   "outputs": [
    {
     "data": {
      "text/plain": [
       "14"
      ]
     },
     "execution_count": 23,
     "metadata": {},
     "output_type": "execute_result"
    }
   ],
   "source": [
    "# Use math.ceil to round up for the total number of pages of results.\n",
    "n_pages = math.ceil(results['total'] / results_per_page)\n",
    "n_pages"
   ]
  },
  {
   "cell_type": "code",
   "execution_count": 26,
   "metadata": {},
   "outputs": [
    {
     "data": {
      "application/vnd.jupyter.widget-view+json": {
       "model_id": "841a4751eac044268a8aa38c37162952",
       "version_major": 2,
       "version_minor": 0
      },
      "text/plain": [
       "  0%|          | 0/15 [00:00<?, ?it/s]"
      ]
     },
     "metadata": {},
     "output_type": "display_data"
    }
   ],
   "source": [
    "for i in tqdm_notebook( range(0,n_pages+1)): # must do +1 to get all 20 pages\n",
    "    ## The block of code we want to TRY to run\n",
    "    try:\n",
    "        time.sleep(.2)\n",
    "        ## Read in results in progress file and check the length\n",
    "        ## Load previous results and use len of results for offset\n",
    "        with open(JSON_FILE,'r') as f:\n",
    "            previous_results = json.load(f)    \n",
    "        \n",
    "        ## save number of results for to use as offset\n",
    "        n_results = len(previous_results)\n",
    "        \n",
    "        \n",
    "        ## use n_results as the OFFSET \n",
    "        results = yelp.search_query(term=TERM,location=LOCATION,offset=n_results)\n",
    "\n",
    "        ## append new results and save to file\n",
    "        previous_results.extend(results['businesses'])\n",
    "\n",
    "        with open(JSON_FILE,'w') as f:\n",
    "            json.dump(previous_results,f)\n",
    "    ## What to do if we get an error/exception.\n",
    "    except Exception as e:\n",
    "        print(e)\n",
    "        break\n"
   ]
  },
  {
   "cell_type": "markdown",
   "metadata": {},
   "source": [
    "## Open the Final JSON File with Pandas"
   ]
  },
  {
   "cell_type": "code",
   "execution_count": 27,
   "metadata": {},
   "outputs": [
    {
     "data": {
      "text/html": [
       "<div>\n",
       "<style scoped>\n",
       "    .dataframe tbody tr th:only-of-type {\n",
       "        vertical-align: middle;\n",
       "    }\n",
       "\n",
       "    .dataframe tbody tr th {\n",
       "        vertical-align: top;\n",
       "    }\n",
       "\n",
       "    .dataframe thead th {\n",
       "        text-align: right;\n",
       "    }\n",
       "</style>\n",
       "<table border=\"1\" class=\"dataframe\">\n",
       "  <thead>\n",
       "    <tr style=\"text-align: right;\">\n",
       "      <th></th>\n",
       "      <th>id</th>\n",
       "      <th>alias</th>\n",
       "      <th>name</th>\n",
       "      <th>image_url</th>\n",
       "      <th>is_closed</th>\n",
       "      <th>url</th>\n",
       "      <th>review_count</th>\n",
       "      <th>categories</th>\n",
       "      <th>rating</th>\n",
       "      <th>coordinates</th>\n",
       "      <th>transactions</th>\n",
       "      <th>price</th>\n",
       "      <th>location</th>\n",
       "      <th>phone</th>\n",
       "      <th>display_phone</th>\n",
       "      <th>distance</th>\n",
       "    </tr>\n",
       "  </thead>\n",
       "  <tbody>\n",
       "    <tr>\n",
       "      <th>0</th>\n",
       "      <td>YSQiqH7RIWORk_Qp-A4SOg</td>\n",
       "      <td>shiros-seattle</td>\n",
       "      <td>Shiro's</td>\n",
       "      <td>https://s3-media3.fl.yelpcdn.com/bphoto/4LNql5...</td>\n",
       "      <td>False</td>\n",
       "      <td>https://www.yelp.com/biz/shiros-seattle?adjust...</td>\n",
       "      <td>2363</td>\n",
       "      <td>[{'alias': 'sushi', 'title': 'Sushi Bars'}, {'...</td>\n",
       "      <td>4.5</td>\n",
       "      <td>{'latitude': 47.6147782162181, 'longitude': -1...</td>\n",
       "      <td>[pickup, delivery]</td>\n",
       "      <td>$$$$</td>\n",
       "      <td>{'address1': '2401 2nd Ave', 'address2': '', '...</td>\n",
       "      <td>+12064439844</td>\n",
       "      <td>(206) 443-9844</td>\n",
       "      <td>2916.810435</td>\n",
       "    </tr>\n",
       "    <tr>\n",
       "      <th>1</th>\n",
       "      <td>tg9Fsdky2V-Bg3xiSIT4sg</td>\n",
       "      <td>taneda-sushi-in-kaiseki-seattle-2</td>\n",
       "      <td>Taneda Sushi in Kaiseki</td>\n",
       "      <td>https://s3-media3.fl.yelpcdn.com/bphoto/-_C6o6...</td>\n",
       "      <td>False</td>\n",
       "      <td>https://www.yelp.com/biz/taneda-sushi-in-kaise...</td>\n",
       "      <td>222</td>\n",
       "      <td>[{'alias': 'sushi', 'title': 'Sushi Bars'}, {'...</td>\n",
       "      <td>5.0</td>\n",
       "      <td>{'latitude': 47.62063, 'longitude': -122.32134}</td>\n",
       "      <td>[]</td>\n",
       "      <td>$$$$</td>\n",
       "      <td>{'address1': '219 Broadway E', 'address2': 'St...</td>\n",
       "      <td></td>\n",
       "      <td></td>\n",
       "      <td>1702.642492</td>\n",
       "    </tr>\n",
       "    <tr>\n",
       "      <th>2</th>\n",
       "      <td>1kltyyJOETOpxkFa1sBdgQ</td>\n",
       "      <td>aoki-sushi-and-grill-seattle-5</td>\n",
       "      <td>Aoki Sushi &amp; Grill</td>\n",
       "      <td>https://s3-media4.fl.yelpcdn.com/bphoto/cP81nh...</td>\n",
       "      <td>False</td>\n",
       "      <td>https://www.yelp.com/biz/aoki-sushi-and-grill-...</td>\n",
       "      <td>70</td>\n",
       "      <td>[{'alias': 'japanese', 'title': 'Japanese'}, {...</td>\n",
       "      <td>4.5</td>\n",
       "      <td>{'latitude': 47.6249214, 'longitude': -122.321...</td>\n",
       "      <td>[delivery]</td>\n",
       "      <td>NaN</td>\n",
       "      <td>{'address1': '621 Broadway E', 'address2': '',...</td>\n",
       "      <td>+12065574595</td>\n",
       "      <td>(206) 557-4595</td>\n",
       "      <td>1228.374005</td>\n",
       "    </tr>\n",
       "    <tr>\n",
       "      <th>3</th>\n",
       "      <td>vs5dhED5Yf8kqPp06OD2QQ</td>\n",
       "      <td>momiji-seattle</td>\n",
       "      <td>Momiji</td>\n",
       "      <td>https://s3-media2.fl.yelpcdn.com/bphoto/6FKB4E...</td>\n",
       "      <td>False</td>\n",
       "      <td>https://www.yelp.com/biz/momiji-seattle?adjust...</td>\n",
       "      <td>1590</td>\n",
       "      <td>[{'alias': 'japanese', 'title': 'Japanese'}, {...</td>\n",
       "      <td>4.0</td>\n",
       "      <td>{'latitude': 47.61482, 'longitude': -122.31657}</td>\n",
       "      <td>[delivery]</td>\n",
       "      <td>$$</td>\n",
       "      <td>{'address1': '1522 12th Ave', 'address2': '', ...</td>\n",
       "      <td>+12064574068</td>\n",
       "      <td>(206) 457-4068</td>\n",
       "      <td>2401.274089</td>\n",
       "    </tr>\n",
       "    <tr>\n",
       "      <th>4</th>\n",
       "      <td>jAgEaQUQMvGC2PsxYjBWOQ</td>\n",
       "      <td>katsu-ya-seattle-seattle</td>\n",
       "      <td>Katsu-ya Seattle</td>\n",
       "      <td>https://s3-media3.fl.yelpcdn.com/bphoto/TepKrk...</td>\n",
       "      <td>False</td>\n",
       "      <td>https://www.yelp.com/biz/katsu-ya-seattle-seat...</td>\n",
       "      <td>140</td>\n",
       "      <td>[{'alias': 'sushi', 'title': 'Sushi Bars'}, {'...</td>\n",
       "      <td>4.5</td>\n",
       "      <td>{'latitude': 47.619252, 'longitude': -122.338099}</td>\n",
       "      <td>[delivery]</td>\n",
       "      <td>$$</td>\n",
       "      <td>{'address1': '122 Westlake Ave N', 'address2':...</td>\n",
       "      <td>+12065800080</td>\n",
       "      <td>(206) 580-0080</td>\n",
       "      <td>2118.369711</td>\n",
       "    </tr>\n",
       "    <tr>\n",
       "      <th>...</th>\n",
       "      <td>...</td>\n",
       "      <td>...</td>\n",
       "      <td>...</td>\n",
       "      <td>...</td>\n",
       "      <td>...</td>\n",
       "      <td>...</td>\n",
       "      <td>...</td>\n",
       "      <td>...</td>\n",
       "      <td>...</td>\n",
       "      <td>...</td>\n",
       "      <td>...</td>\n",
       "      <td>...</td>\n",
       "      <td>...</td>\n",
       "      <td>...</td>\n",
       "      <td>...</td>\n",
       "      <td>...</td>\n",
       "    </tr>\n",
       "    <tr>\n",
       "      <th>256</th>\n",
       "      <td>NaxujkZqT7kixb-XmJcHZg</td>\n",
       "      <td>zoka-coffee-roaster-and-tea-company-seattle-5</td>\n",
       "      <td>Zoka Coffee Roaster &amp; Tea Company</td>\n",
       "      <td>https://s3-media4.fl.yelpcdn.com/bphoto/4xpDqE...</td>\n",
       "      <td>False</td>\n",
       "      <td>https://www.yelp.com/biz/zoka-coffee-roaster-a...</td>\n",
       "      <td>380</td>\n",
       "      <td>[{'alias': 'coffee', 'title': 'Coffee &amp; Tea'}]</td>\n",
       "      <td>4.0</td>\n",
       "      <td>{'latitude': 47.6688199, 'longitude': -122.33287}</td>\n",
       "      <td>[delivery]</td>\n",
       "      <td>$$</td>\n",
       "      <td>{'address1': '2200 N 56th St', 'address2': '',...</td>\n",
       "      <td>+12065454277</td>\n",
       "      <td>(206) 545-4277</td>\n",
       "      <td>3735.147088</td>\n",
       "    </tr>\n",
       "    <tr>\n",
       "      <th>257</th>\n",
       "      <td>mOfmcAg_c4d72YEmz_rkEQ</td>\n",
       "      <td>chew-chews-and-eatery-seattle</td>\n",
       "      <td>Chew Chews &amp; Eatery</td>\n",
       "      <td>https://s3-media3.fl.yelpcdn.com/bphoto/_DmNnO...</td>\n",
       "      <td>False</td>\n",
       "      <td>https://www.yelp.com/biz/chew-chews-and-eatery...</td>\n",
       "      <td>15</td>\n",
       "      <td>[{'alias': 'newamerican', 'title': 'American (...</td>\n",
       "      <td>3.5</td>\n",
       "      <td>{'latitude': 47.6049072432661, 'longitude': -1...</td>\n",
       "      <td>[delivery, pickup]</td>\n",
       "      <td>$</td>\n",
       "      <td>{'address1': '700 5th Ave', 'address2': 'Ste 6...</td>\n",
       "      <td>+12062230820</td>\n",
       "      <td>(206) 223-0820</td>\n",
       "      <td>3458.414141</td>\n",
       "    </tr>\n",
       "    <tr>\n",
       "      <th>258</th>\n",
       "      <td>NGJ08D3NgxUR-DnUQB7mmA</td>\n",
       "      <td>bambinos-pizzeria-seattle</td>\n",
       "      <td>Bambino's Pizzeria</td>\n",
       "      <td>https://s3-media3.fl.yelpcdn.com/bphoto/ELDSUV...</td>\n",
       "      <td>False</td>\n",
       "      <td>https://www.yelp.com/biz/bambinos-pizzeria-sea...</td>\n",
       "      <td>535</td>\n",
       "      <td>[{'alias': 'pizza', 'title': 'Pizza'}, {'alias...</td>\n",
       "      <td>3.5</td>\n",
       "      <td>{'latitude': 47.6179, 'longitude': -122.34761}</td>\n",
       "      <td>[delivery, pickup]</td>\n",
       "      <td>$$</td>\n",
       "      <td>{'address1': '401 Cedar St', 'address2': None,...</td>\n",
       "      <td>+12062692222</td>\n",
       "      <td>(206) 269-2222</td>\n",
       "      <td>2673.472893</td>\n",
       "    </tr>\n",
       "    <tr>\n",
       "      <th>259</th>\n",
       "      <td>tApJIRcvY0ARGftZyKdpeA</td>\n",
       "      <td>qfc-seattle-40</td>\n",
       "      <td>QFC</td>\n",
       "      <td>https://s3-media2.fl.yelpcdn.com/bphoto/XnBarc...</td>\n",
       "      <td>False</td>\n",
       "      <td>https://www.yelp.com/biz/qfc-seattle-40?adjust...</td>\n",
       "      <td>122</td>\n",
       "      <td>[{'alias': 'grocery', 'title': 'Grocery'}]</td>\n",
       "      <td>3.0</td>\n",
       "      <td>{'latitude': 47.6613353937864, 'longitude': -1...</td>\n",
       "      <td>[]</td>\n",
       "      <td>$$</td>\n",
       "      <td>{'address1': '1801 N 45th Street', 'address2':...</td>\n",
       "      <td>+12066329253</td>\n",
       "      <td>(206) 632-9253</td>\n",
       "      <td>3033.026309</td>\n",
       "    </tr>\n",
       "    <tr>\n",
       "      <th>260</th>\n",
       "      <td>TbX8QYXNcpcdGY21TDOgfw</td>\n",
       "      <td>jimmy-johns-seattle-4</td>\n",
       "      <td>Jimmy John's</td>\n",
       "      <td>https://s3-media1.fl.yelpcdn.com/bphoto/zjJKkP...</td>\n",
       "      <td>False</td>\n",
       "      <td>https://www.yelp.com/biz/jimmy-johns-seattle-4...</td>\n",
       "      <td>104</td>\n",
       "      <td>[{'alias': 'sandwiches', 'title': 'Sandwiches'...</td>\n",
       "      <td>3.5</td>\n",
       "      <td>{'latitude': 47.61028212867052, 'longitude': -...</td>\n",
       "      <td>[]</td>\n",
       "      <td>$</td>\n",
       "      <td>{'address1': '1420 5th Ave', 'address2': 'Ste ...</td>\n",
       "      <td>+12066239500</td>\n",
       "      <td>(206) 623-9500</td>\n",
       "      <td>2934.564373</td>\n",
       "    </tr>\n",
       "  </tbody>\n",
       "</table>\n",
       "<p>261 rows × 16 columns</p>\n",
       "</div>"
      ],
      "text/plain": [
       "                         id                                          alias  \\\n",
       "0    YSQiqH7RIWORk_Qp-A4SOg                                 shiros-seattle   \n",
       "1    tg9Fsdky2V-Bg3xiSIT4sg              taneda-sushi-in-kaiseki-seattle-2   \n",
       "2    1kltyyJOETOpxkFa1sBdgQ                 aoki-sushi-and-grill-seattle-5   \n",
       "3    vs5dhED5Yf8kqPp06OD2QQ                                 momiji-seattle   \n",
       "4    jAgEaQUQMvGC2PsxYjBWOQ                       katsu-ya-seattle-seattle   \n",
       "..                      ...                                            ...   \n",
       "256  NaxujkZqT7kixb-XmJcHZg  zoka-coffee-roaster-and-tea-company-seattle-5   \n",
       "257  mOfmcAg_c4d72YEmz_rkEQ                  chew-chews-and-eatery-seattle   \n",
       "258  NGJ08D3NgxUR-DnUQB7mmA                      bambinos-pizzeria-seattle   \n",
       "259  tApJIRcvY0ARGftZyKdpeA                                 qfc-seattle-40   \n",
       "260  TbX8QYXNcpcdGY21TDOgfw                          jimmy-johns-seattle-4   \n",
       "\n",
       "                                  name  \\\n",
       "0                              Shiro's   \n",
       "1              Taneda Sushi in Kaiseki   \n",
       "2                   Aoki Sushi & Grill   \n",
       "3                               Momiji   \n",
       "4                     Katsu-ya Seattle   \n",
       "..                                 ...   \n",
       "256  Zoka Coffee Roaster & Tea Company   \n",
       "257                Chew Chews & Eatery   \n",
       "258                 Bambino's Pizzeria   \n",
       "259                                QFC   \n",
       "260                       Jimmy John's   \n",
       "\n",
       "                                             image_url  is_closed  \\\n",
       "0    https://s3-media3.fl.yelpcdn.com/bphoto/4LNql5...      False   \n",
       "1    https://s3-media3.fl.yelpcdn.com/bphoto/-_C6o6...      False   \n",
       "2    https://s3-media4.fl.yelpcdn.com/bphoto/cP81nh...      False   \n",
       "3    https://s3-media2.fl.yelpcdn.com/bphoto/6FKB4E...      False   \n",
       "4    https://s3-media3.fl.yelpcdn.com/bphoto/TepKrk...      False   \n",
       "..                                                 ...        ...   \n",
       "256  https://s3-media4.fl.yelpcdn.com/bphoto/4xpDqE...      False   \n",
       "257  https://s3-media3.fl.yelpcdn.com/bphoto/_DmNnO...      False   \n",
       "258  https://s3-media3.fl.yelpcdn.com/bphoto/ELDSUV...      False   \n",
       "259  https://s3-media2.fl.yelpcdn.com/bphoto/XnBarc...      False   \n",
       "260  https://s3-media1.fl.yelpcdn.com/bphoto/zjJKkP...      False   \n",
       "\n",
       "                                                   url  review_count  \\\n",
       "0    https://www.yelp.com/biz/shiros-seattle?adjust...          2363   \n",
       "1    https://www.yelp.com/biz/taneda-sushi-in-kaise...           222   \n",
       "2    https://www.yelp.com/biz/aoki-sushi-and-grill-...            70   \n",
       "3    https://www.yelp.com/biz/momiji-seattle?adjust...          1590   \n",
       "4    https://www.yelp.com/biz/katsu-ya-seattle-seat...           140   \n",
       "..                                                 ...           ...   \n",
       "256  https://www.yelp.com/biz/zoka-coffee-roaster-a...           380   \n",
       "257  https://www.yelp.com/biz/chew-chews-and-eatery...            15   \n",
       "258  https://www.yelp.com/biz/bambinos-pizzeria-sea...           535   \n",
       "259  https://www.yelp.com/biz/qfc-seattle-40?adjust...           122   \n",
       "260  https://www.yelp.com/biz/jimmy-johns-seattle-4...           104   \n",
       "\n",
       "                                            categories  rating  \\\n",
       "0    [{'alias': 'sushi', 'title': 'Sushi Bars'}, {'...     4.5   \n",
       "1    [{'alias': 'sushi', 'title': 'Sushi Bars'}, {'...     5.0   \n",
       "2    [{'alias': 'japanese', 'title': 'Japanese'}, {...     4.5   \n",
       "3    [{'alias': 'japanese', 'title': 'Japanese'}, {...     4.0   \n",
       "4    [{'alias': 'sushi', 'title': 'Sushi Bars'}, {'...     4.5   \n",
       "..                                                 ...     ...   \n",
       "256     [{'alias': 'coffee', 'title': 'Coffee & Tea'}]     4.0   \n",
       "257  [{'alias': 'newamerican', 'title': 'American (...     3.5   \n",
       "258  [{'alias': 'pizza', 'title': 'Pizza'}, {'alias...     3.5   \n",
       "259         [{'alias': 'grocery', 'title': 'Grocery'}]     3.0   \n",
       "260  [{'alias': 'sandwiches', 'title': 'Sandwiches'...     3.5   \n",
       "\n",
       "                                           coordinates        transactions  \\\n",
       "0    {'latitude': 47.6147782162181, 'longitude': -1...  [pickup, delivery]   \n",
       "1      {'latitude': 47.62063, 'longitude': -122.32134}                  []   \n",
       "2    {'latitude': 47.6249214, 'longitude': -122.321...          [delivery]   \n",
       "3      {'latitude': 47.61482, 'longitude': -122.31657}          [delivery]   \n",
       "4    {'latitude': 47.619252, 'longitude': -122.338099}          [delivery]   \n",
       "..                                                 ...                 ...   \n",
       "256  {'latitude': 47.6688199, 'longitude': -122.33287}          [delivery]   \n",
       "257  {'latitude': 47.6049072432661, 'longitude': -1...  [delivery, pickup]   \n",
       "258     {'latitude': 47.6179, 'longitude': -122.34761}  [delivery, pickup]   \n",
       "259  {'latitude': 47.6613353937864, 'longitude': -1...                  []   \n",
       "260  {'latitude': 47.61028212867052, 'longitude': -...                  []   \n",
       "\n",
       "    price                                           location         phone  \\\n",
       "0    $$$$  {'address1': '2401 2nd Ave', 'address2': '', '...  +12064439844   \n",
       "1    $$$$  {'address1': '219 Broadway E', 'address2': 'St...                 \n",
       "2     NaN  {'address1': '621 Broadway E', 'address2': '',...  +12065574595   \n",
       "3      $$  {'address1': '1522 12th Ave', 'address2': '', ...  +12064574068   \n",
       "4      $$  {'address1': '122 Westlake Ave N', 'address2':...  +12065800080   \n",
       "..    ...                                                ...           ...   \n",
       "256    $$  {'address1': '2200 N 56th St', 'address2': '',...  +12065454277   \n",
       "257     $  {'address1': '700 5th Ave', 'address2': 'Ste 6...  +12062230820   \n",
       "258    $$  {'address1': '401 Cedar St', 'address2': None,...  +12062692222   \n",
       "259    $$  {'address1': '1801 N 45th Street', 'address2':...  +12066329253   \n",
       "260     $  {'address1': '1420 5th Ave', 'address2': 'Ste ...  +12066239500   \n",
       "\n",
       "      display_phone     distance  \n",
       "0    (206) 443-9844  2916.810435  \n",
       "1                    1702.642492  \n",
       "2    (206) 557-4595  1228.374005  \n",
       "3    (206) 457-4068  2401.274089  \n",
       "4    (206) 580-0080  2118.369711  \n",
       "..              ...          ...  \n",
       "256  (206) 545-4277  3735.147088  \n",
       "257  (206) 223-0820  3458.414141  \n",
       "258  (206) 269-2222  2673.472893  \n",
       "259  (206) 632-9253  3033.026309  \n",
       "260  (206) 623-9500  2934.564373  \n",
       "\n",
       "[261 rows x 16 columns]"
      ]
     },
     "execution_count": 27,
     "metadata": {},
     "output_type": "execute_result"
    }
   ],
   "source": [
    "df = pd.read_json(JSON_FILE)\n",
    "df"
   ]
  },
  {
   "cell_type": "code",
   "execution_count": 28,
   "metadata": {},
   "outputs": [
    {
     "data": {
      "text/plain": [
       "0"
      ]
     },
     "execution_count": 28,
     "metadata": {},
     "output_type": "execute_result"
    }
   ],
   "source": [
    "df.duplicated(subset='id').sum()"
   ]
  },
  {
   "cell_type": "code",
   "execution_count": 29,
   "metadata": {},
   "outputs": [
    {
     "data": {
      "text/plain": [
       "'Data/Sushi_Seattle.csv.gz'"
      ]
     },
     "execution_count": 29,
     "metadata": {},
     "output_type": "execute_result"
    }
   ],
   "source": [
    "## convert the filename to a .csv.gz\n",
    "csv_file = JSON_FILE.replace('.json','.csv.gz')\n",
    "csv_file"
   ]
  },
  {
   "cell_type": "code",
   "execution_count": 30,
   "metadata": {},
   "outputs": [],
   "source": [
    "## Save it as a compressed csv (to save space)\n",
    "df.to_csv(csv_file, compression='gzip',index=False)"
   ]
  },
  {
   "cell_type": "markdown",
   "metadata": {},
   "source": [
    "## Bonus: compare filesize with os module's `os.path.getsize`"
   ]
  },
  {
   "cell_type": "code",
   "execution_count": 31,
   "metadata": {},
   "outputs": [
    {
     "name": "stdout",
     "output_type": "stream",
     "text": [
      "JSON FILE: 253,303 Bytes\n",
      "CSV.GZ FILE: 36,047 Bytes\n",
      "the csv.gz is 7.02702027908009 times smaller!\n"
     ]
    }
   ],
   "source": [
    "size_json = os.path.getsize(JSON_FILE)\n",
    "size_csv_gz = os.path.getsize(JSON_FILE.replace('.json','.csv.gz'))\n",
    "\n",
    "print(f'JSON FILE: {size_json:,} Bytes')\n",
    "print(f'CSV.GZ FILE: {size_csv_gz:,} Bytes')\n",
    "\n",
    "print(f'the csv.gz is {size_json/size_csv_gz} times smaller!')"
   ]
  },
  {
   "cell_type": "markdown",
   "metadata": {},
   "source": [
    "## Next Class: Processing the Results and Mapping "
   ]
  }
 ],
 "metadata": {
  "colab": {
   "collapsed_sections": [],
   "name": "Test Yelp API Package.ipynb",
   "provenance": []
  },
  "kernelspec": {
   "display_name": "Python (dojo-env)",
   "language": "python",
   "name": "dojo-env"
  },
  "language_info": {
   "codemirror_mode": {
    "name": "ipython",
    "version": 3
   },
   "file_extension": ".py",
   "mimetype": "text/x-python",
   "name": "python",
   "nbconvert_exporter": "python",
   "pygments_lexer": "ipython3",
   "version": "3.7.12"
  },
  "toc": {
   "base_numbering": 1,
   "nav_menu": {},
   "number_sections": false,
   "sideBar": true,
   "skip_h1_title": false,
   "title_cell": "Table of Contents",
   "title_sidebar": "Contents",
   "toc_cell": false,
   "toc_position": {},
   "toc_section_display": true,
   "toc_window_display": true
  }
 },
 "nbformat": 4,
 "nbformat_minor": 1
}
